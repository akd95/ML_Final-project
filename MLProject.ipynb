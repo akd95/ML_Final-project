{
  "nbformat": 4,
  "nbformat_minor": 0,
  "metadata": {
    "colab": {
      "name": "MLProject.ipynb",
      "version": "0.3.2",
      "provenance": [],
      "collapsed_sections": []
    },
    "kernelspec": {
      "name": "python3",
      "display_name": "Python 3"
    },
    "accelerator": "GPU"
  },
  "cells": [
    {
      "cell_type": "code",
      "metadata": {
        "id": "neZHjfhJJhcU",
        "colab_type": "code",
        "colab": {}
      },
      "source": [
        ""
      ],
      "execution_count": 0,
      "outputs": []
    },
    {
      "cell_type": "markdown",
      "metadata": {
        "id": "_cdRQ2n0awzk",
        "colab_type": "text"
      },
      "source": [
        "# Machine Learning Project, Project Title: Amazon Employee Access challenge."
      ]
    },
    {
      "cell_type": "markdown",
      "metadata": {
        "id": "TVjyyumObkae",
        "colab_type": "text"
      },
      "source": [
        "# Students in the Team: \n",
        "#Akhil Kumar Dundigalla, akd389.\n",
        "#Sravan Reddy Chintareddy, src572\n",
        "#Sridhar Gadicherla, sg5764"
      ]
    },
    {
      "cell_type": "markdown",
      "metadata": {
        "id": "rpzCxq_yS86v",
        "colab_type": "text"
      },
      "source": [
        "### ** Project Definition:  When any employee at any company starts to work, they want to obtain the complete computer access necessary to fulfill their role. This access may allow an employee to manipulate resources according to his needs. But often many employees figure out that their access is restricted to certain applications. A supervisor then manually gives the required access to the employee in order to overcome access obstacles which takes a lot of time. As employees move throughout a company, this manual procedure wastes a nontrivial amount of time and money. There is enough amount of data regarding an employee’s role within an organization and the resources to which they have access. Given this data, models can be built that automatically determine whether access privileges can be given to an employee or not.\n",
        "\n",
        "###**Our proposed solution:  Our objective is to build a classification model, learned using historical data provided by amazon and available from Kaggle competitions, that will determine whether an employee should be given access or not. Since it is a classification problem we will first try to use Linear classifiers (SVM, Logistic Regression) and measure the performance using Accuracy or ROC-AUC. If the performance is not up to the mark then we will try to use RandomForest classifier. We will use the best model we can come up with and use it to predict what is required and measure its performance using ROC-AUC.**"
      ]
    },
    {
      "cell_type": "markdown",
      "metadata": {
        "id": "SC2XGWnwZ3Lj",
        "colab_type": "text"
      },
      "source": [
        "**Note: ***  If you want to run our code please run it on google colab, because we have run our code on google colab and ipynb file downloaded from google colab has indentation problem when opened and runned using jupyter notebook. Also some of our code cells containing gridsearchcv code takes 2 to 3 hours to run when run using goggle colab gpu. So instead of running those code cells, we have taken the screenshots of that particular code cells and its respective outputs and posted it on github just to avoid running those code cells."
      ]
    },
    {
      "cell_type": "code",
      "metadata": {
        "id": "VUPcbRWgarHS",
        "colab_type": "code",
        "colab": {}
      },
      "source": [
        "import numpy as np\n",
        "from sklearn.preprocessing import StandardScaler, scale, OneHotEncoder\n",
        "from sklearn.linear_model import LogisticRegression\n",
        "from sklearn.svm import SVC\n",
        "import pandas as pd\n",
        "import matplotlib\n",
        "import matplotlib.pyplot as plt\n",
        "from sklearn import preprocessing\n",
        "from sklearn.model_selection import KFold\n",
        "from sklearn.model_selection import train_test_split\n",
        "from sklearn.metrics import confusion_matrix, accuracy_score,roc_curve, auc, classification_report\n",
        "from sklearn.decomposition import TruncatedSVD\n",
        "from sklearn.model_selection import GridSearchCV\n",
        "from sklearn.ensemble import RandomForestClassifier\n",
        "import seaborn as sns\n",
        "\n",
        "\n",
        "%matplotlib inline"
      ],
      "execution_count": 0,
      "outputs": []
    },
    {
      "cell_type": "code",
      "metadata": {
        "id": "wxFSrQgHOj2F",
        "colab_type": "code",
        "colab": {}
      },
      "source": [
        "df1 = pd.read_csv('train.csv')"
      ],
      "execution_count": 0,
      "outputs": []
    },
    {
      "cell_type": "code",
      "metadata": {
        "id": "p2cbqKfdOkCM",
        "colab_type": "code",
        "outputId": "9bc0d3c6-6e07-44d5-d749-9aebdc4afb62",
        "colab": {
          "base_uri": "https://localhost:8080/",
          "height": 195
        }
      },
      "source": [
        "df = df1.dropna()\n",
        "df.head(5)"
      ],
      "execution_count": 0,
      "outputs": [
        {
          "output_type": "execute_result",
          "data": {
            "text/html": [
              "<div>\n",
              "<style scoped>\n",
              "    .dataframe tbody tr th:only-of-type {\n",
              "        vertical-align: middle;\n",
              "    }\n",
              "\n",
              "    .dataframe tbody tr th {\n",
              "        vertical-align: top;\n",
              "    }\n",
              "\n",
              "    .dataframe thead th {\n",
              "        text-align: right;\n",
              "    }\n",
              "</style>\n",
              "<table border=\"1\" class=\"dataframe\">\n",
              "  <thead>\n",
              "    <tr style=\"text-align: right;\">\n",
              "      <th></th>\n",
              "      <th>ACTION</th>\n",
              "      <th>RESOURCE</th>\n",
              "      <th>MGR_ID</th>\n",
              "      <th>ROLE_ROLLUP_1</th>\n",
              "      <th>ROLE_ROLLUP_2</th>\n",
              "      <th>ROLE_DEPTNAME</th>\n",
              "      <th>ROLE_TITLE</th>\n",
              "      <th>ROLE_FAMILY_DESC</th>\n",
              "      <th>ROLE_FAMILY</th>\n",
              "      <th>ROLE_CODE</th>\n",
              "    </tr>\n",
              "  </thead>\n",
              "  <tbody>\n",
              "    <tr>\n",
              "      <th>0</th>\n",
              "      <td>1</td>\n",
              "      <td>39353</td>\n",
              "      <td>85475</td>\n",
              "      <td>117961</td>\n",
              "      <td>118300</td>\n",
              "      <td>123472</td>\n",
              "      <td>117905</td>\n",
              "      <td>117906</td>\n",
              "      <td>290919</td>\n",
              "      <td>117908</td>\n",
              "    </tr>\n",
              "    <tr>\n",
              "      <th>1</th>\n",
              "      <td>1</td>\n",
              "      <td>17183</td>\n",
              "      <td>1540</td>\n",
              "      <td>117961</td>\n",
              "      <td>118343</td>\n",
              "      <td>123125</td>\n",
              "      <td>118536</td>\n",
              "      <td>118536</td>\n",
              "      <td>308574</td>\n",
              "      <td>118539</td>\n",
              "    </tr>\n",
              "    <tr>\n",
              "      <th>2</th>\n",
              "      <td>1</td>\n",
              "      <td>36724</td>\n",
              "      <td>14457</td>\n",
              "      <td>118219</td>\n",
              "      <td>118220</td>\n",
              "      <td>117884</td>\n",
              "      <td>117879</td>\n",
              "      <td>267952</td>\n",
              "      <td>19721</td>\n",
              "      <td>117880</td>\n",
              "    </tr>\n",
              "    <tr>\n",
              "      <th>3</th>\n",
              "      <td>1</td>\n",
              "      <td>36135</td>\n",
              "      <td>5396</td>\n",
              "      <td>117961</td>\n",
              "      <td>118343</td>\n",
              "      <td>119993</td>\n",
              "      <td>118321</td>\n",
              "      <td>240983</td>\n",
              "      <td>290919</td>\n",
              "      <td>118322</td>\n",
              "    </tr>\n",
              "    <tr>\n",
              "      <th>4</th>\n",
              "      <td>1</td>\n",
              "      <td>42680</td>\n",
              "      <td>5905</td>\n",
              "      <td>117929</td>\n",
              "      <td>117930</td>\n",
              "      <td>119569</td>\n",
              "      <td>119323</td>\n",
              "      <td>123932</td>\n",
              "      <td>19793</td>\n",
              "      <td>119325</td>\n",
              "    </tr>\n",
              "  </tbody>\n",
              "</table>\n",
              "</div>"
            ],
            "text/plain": [
              "   ACTION  RESOURCE  MGR_ID  ROLE_ROLLUP_1  ROLE_ROLLUP_2  ROLE_DEPTNAME  \\\n",
              "0       1     39353   85475         117961         118300         123472   \n",
              "1       1     17183    1540         117961         118343         123125   \n",
              "2       1     36724   14457         118219         118220         117884   \n",
              "3       1     36135    5396         117961         118343         119993   \n",
              "4       1     42680    5905         117929         117930         119569   \n",
              "\n",
              "   ROLE_TITLE  ROLE_FAMILY_DESC  ROLE_FAMILY  ROLE_CODE  \n",
              "0      117905            117906       290919     117908  \n",
              "1      118536            118536       308574     118539  \n",
              "2      117879            267952        19721     117880  \n",
              "3      118321            240983       290919     118322  \n",
              "4      119323            123932        19793     119325  "
            ]
          },
          "metadata": {
            "tags": []
          },
          "execution_count": 46
        }
      ]
    },
    {
      "cell_type": "code",
      "metadata": {
        "id": "JnaDBF03lbU9",
        "colab_type": "code",
        "outputId": "323daf98-73bb-4176-b5fd-bee34bcefee8",
        "colab": {
          "base_uri": "https://localhost:8080/",
          "height": 284
        }
      },
      "source": [
        "df.describe()"
      ],
      "execution_count": 0,
      "outputs": [
        {
          "output_type": "execute_result",
          "data": {
            "text/html": [
              "<div>\n",
              "<style scoped>\n",
              "    .dataframe tbody tr th:only-of-type {\n",
              "        vertical-align: middle;\n",
              "    }\n",
              "\n",
              "    .dataframe tbody tr th {\n",
              "        vertical-align: top;\n",
              "    }\n",
              "\n",
              "    .dataframe thead th {\n",
              "        text-align: right;\n",
              "    }\n",
              "</style>\n",
              "<table border=\"1\" class=\"dataframe\">\n",
              "  <thead>\n",
              "    <tr style=\"text-align: right;\">\n",
              "      <th></th>\n",
              "      <th>ACTION</th>\n",
              "      <th>RESOURCE</th>\n",
              "      <th>MGR_ID</th>\n",
              "      <th>ROLE_ROLLUP_1</th>\n",
              "      <th>ROLE_ROLLUP_2</th>\n",
              "      <th>ROLE_DEPTNAME</th>\n",
              "      <th>ROLE_TITLE</th>\n",
              "      <th>ROLE_FAMILY_DESC</th>\n",
              "      <th>ROLE_FAMILY</th>\n",
              "      <th>ROLE_CODE</th>\n",
              "    </tr>\n",
              "  </thead>\n",
              "  <tbody>\n",
              "    <tr>\n",
              "      <th>count</th>\n",
              "      <td>32769.000000</td>\n",
              "      <td>32769.000000</td>\n",
              "      <td>32769.000000</td>\n",
              "      <td>32769.000000</td>\n",
              "      <td>32769.000000</td>\n",
              "      <td>32769.000000</td>\n",
              "      <td>32769.000000</td>\n",
              "      <td>32769.000000</td>\n",
              "      <td>32769.000000</td>\n",
              "      <td>32769.000000</td>\n",
              "    </tr>\n",
              "    <tr>\n",
              "      <th>mean</th>\n",
              "      <td>0.942110</td>\n",
              "      <td>42923.916171</td>\n",
              "      <td>25988.957979</td>\n",
              "      <td>116952.627788</td>\n",
              "      <td>118301.823156</td>\n",
              "      <td>118912.779914</td>\n",
              "      <td>125916.152644</td>\n",
              "      <td>170178.369648</td>\n",
              "      <td>183703.408893</td>\n",
              "      <td>119789.430132</td>\n",
              "    </tr>\n",
              "    <tr>\n",
              "      <th>std</th>\n",
              "      <td>0.233539</td>\n",
              "      <td>34173.892702</td>\n",
              "      <td>35928.031650</td>\n",
              "      <td>10875.563591</td>\n",
              "      <td>4551.588572</td>\n",
              "      <td>18961.322917</td>\n",
              "      <td>31036.465825</td>\n",
              "      <td>69509.462130</td>\n",
              "      <td>100488.407413</td>\n",
              "      <td>5784.275516</td>\n",
              "    </tr>\n",
              "    <tr>\n",
              "      <th>min</th>\n",
              "      <td>0.000000</td>\n",
              "      <td>0.000000</td>\n",
              "      <td>25.000000</td>\n",
              "      <td>4292.000000</td>\n",
              "      <td>23779.000000</td>\n",
              "      <td>4674.000000</td>\n",
              "      <td>117879.000000</td>\n",
              "      <td>4673.000000</td>\n",
              "      <td>3130.000000</td>\n",
              "      <td>117880.000000</td>\n",
              "    </tr>\n",
              "    <tr>\n",
              "      <th>25%</th>\n",
              "      <td>1.000000</td>\n",
              "      <td>20299.000000</td>\n",
              "      <td>4566.000000</td>\n",
              "      <td>117961.000000</td>\n",
              "      <td>118102.000000</td>\n",
              "      <td>118395.000000</td>\n",
              "      <td>118274.000000</td>\n",
              "      <td>117906.000000</td>\n",
              "      <td>118363.000000</td>\n",
              "      <td>118232.000000</td>\n",
              "    </tr>\n",
              "    <tr>\n",
              "      <th>50%</th>\n",
              "      <td>1.000000</td>\n",
              "      <td>35376.000000</td>\n",
              "      <td>13545.000000</td>\n",
              "      <td>117961.000000</td>\n",
              "      <td>118300.000000</td>\n",
              "      <td>118921.000000</td>\n",
              "      <td>118568.000000</td>\n",
              "      <td>128696.000000</td>\n",
              "      <td>119006.000000</td>\n",
              "      <td>118570.000000</td>\n",
              "    </tr>\n",
              "    <tr>\n",
              "      <th>75%</th>\n",
              "      <td>1.000000</td>\n",
              "      <td>74189.000000</td>\n",
              "      <td>42034.000000</td>\n",
              "      <td>117961.000000</td>\n",
              "      <td>118386.000000</td>\n",
              "      <td>120535.000000</td>\n",
              "      <td>120006.000000</td>\n",
              "      <td>235280.000000</td>\n",
              "      <td>290919.000000</td>\n",
              "      <td>119348.000000</td>\n",
              "    </tr>\n",
              "    <tr>\n",
              "      <th>max</th>\n",
              "      <td>1.000000</td>\n",
              "      <td>312153.000000</td>\n",
              "      <td>311696.000000</td>\n",
              "      <td>311178.000000</td>\n",
              "      <td>286791.000000</td>\n",
              "      <td>286792.000000</td>\n",
              "      <td>311867.000000</td>\n",
              "      <td>311867.000000</td>\n",
              "      <td>308574.000000</td>\n",
              "      <td>270691.000000</td>\n",
              "    </tr>\n",
              "  </tbody>\n",
              "</table>\n",
              "</div>"
            ],
            "text/plain": [
              "             ACTION       RESOURCE         MGR_ID  ROLE_ROLLUP_1  \\\n",
              "count  32769.000000   32769.000000   32769.000000   32769.000000   \n",
              "mean       0.942110   42923.916171   25988.957979  116952.627788   \n",
              "std        0.233539   34173.892702   35928.031650   10875.563591   \n",
              "min        0.000000       0.000000      25.000000    4292.000000   \n",
              "25%        1.000000   20299.000000    4566.000000  117961.000000   \n",
              "50%        1.000000   35376.000000   13545.000000  117961.000000   \n",
              "75%        1.000000   74189.000000   42034.000000  117961.000000   \n",
              "max        1.000000  312153.000000  311696.000000  311178.000000   \n",
              "\n",
              "       ROLE_ROLLUP_2  ROLE_DEPTNAME     ROLE_TITLE  ROLE_FAMILY_DESC  \\\n",
              "count   32769.000000   32769.000000   32769.000000      32769.000000   \n",
              "mean   118301.823156  118912.779914  125916.152644     170178.369648   \n",
              "std      4551.588572   18961.322917   31036.465825      69509.462130   \n",
              "min     23779.000000    4674.000000  117879.000000       4673.000000   \n",
              "25%    118102.000000  118395.000000  118274.000000     117906.000000   \n",
              "50%    118300.000000  118921.000000  118568.000000     128696.000000   \n",
              "75%    118386.000000  120535.000000  120006.000000     235280.000000   \n",
              "max    286791.000000  286792.000000  311867.000000     311867.000000   \n",
              "\n",
              "         ROLE_FAMILY      ROLE_CODE  \n",
              "count   32769.000000   32769.000000  \n",
              "mean   183703.408893  119789.430132  \n",
              "std    100488.407413    5784.275516  \n",
              "min      3130.000000  117880.000000  \n",
              "25%    118363.000000  118232.000000  \n",
              "50%    119006.000000  118570.000000  \n",
              "75%    290919.000000  119348.000000  \n",
              "max    308574.000000  270691.000000  "
            ]
          },
          "metadata": {
            "tags": []
          },
          "execution_count": 47
        }
      ]
    },
    {
      "cell_type": "markdown",
      "metadata": {
        "id": "Eq_DyyldRCj9",
        "colab_type": "text"
      },
      "source": [
        "Fom above df.describe( ) table we can see that the mean of the Target column 'ACTION' is 0.942, which tells us that the input data is really skewed. That contains 94% of examples belonging to class 1 and only 6% belongs to class 0. Since the data is skewed, accuracy metric will mislead us, hence we used AUC(area under curve) metric for all the models we used to predict the labels."
      ]
    },
    {
      "cell_type": "markdown",
      "metadata": {
        "id": "M9U1K0ykExdM",
        "colab_type": "text"
      },
      "source": [
        "**To illustrate how skewed the data is we will plot the histogram of target column : 'ACTION'. We can see that the number of data examples belonging to class 1 is way more than class 0. We can see the plot below.**"
      ]
    },
    {
      "cell_type": "code",
      "metadata": {
        "id": "ZQm2uE7iEyhZ",
        "colab_type": "code",
        "outputId": "65dd931a-41a5-4aec-e1bd-8d805249f12f",
        "colab": {
          "base_uri": "https://localhost:8080/",
          "height": 334
        }
      },
      "source": [
        "sns.countplot(x=\"ACTION\", data=df)\n",
        "df.loc[:,'ACTION'].value_counts()"
      ],
      "execution_count": 0,
      "outputs": [
        {
          "output_type": "execute_result",
          "data": {
            "text/plain": [
              "1    30872\n",
              "0     1897\n",
              "Name: ACTION, dtype: int64"
            ]
          },
          "metadata": {
            "tags": []
          },
          "execution_count": 48
        },
        {
          "output_type": "display_data",
          "data": {
            "image/png": "[encoded data removed]",
            "text/plain": [
              "<Figure size 432x288 with 1 Axes>"
            ]
          },
          "metadata": {
            "tags": []
          }
        }
      ]
    },
    {
      "cell_type": "markdown",
      "metadata": {
        "id": "yfT8Xqw-Fp6I",
        "colab_type": "text"
      },
      "source": [
        "Now dropping the unwanted columns."
      ]
    },
    {
      "cell_type": "code",
      "metadata": {
        "id": "9sJwsqsXsQoB",
        "colab_type": "code",
        "outputId": "41fc072c-e345-4f0e-fae5-b93e1e5df38b",
        "colab": {
          "base_uri": "https://localhost:8080/",
          "height": 34
        }
      },
      "source": [
        "y = np.array(df['ACTION'])\n",
        "\n",
        "# dropping Target column and ROLE_CODE column.\n",
        "df=df.drop(['ACTION','ROLE_CODE'],axis=1)\n",
        "df.shape"
      ],
      "execution_count": 0,
      "outputs": [
        {
          "output_type": "execute_result",
          "data": {
            "text/plain": [
              "(32769, 8)"
            ]
          },
          "metadata": {
            "tags": []
          },
          "execution_count": 6
        }
      ]
    },
    {
      "cell_type": "code",
      "metadata": {
        "id": "CAp6yfyUG3sd",
        "colab_type": "code",
        "outputId": "92a12664-ba5f-43e9-9011-321647f0fb14",
        "colab": {
          "base_uri": "https://localhost:8080/",
          "height": 225
        }
      },
      "source": [
        "df.head(6)"
      ],
      "execution_count": 0,
      "outputs": [
        {
          "output_type": "execute_result",
          "data": {
            "text/html": [
              "<div>\n",
              "<style scoped>\n",
              "    .dataframe tbody tr th:only-of-type {\n",
              "        vertical-align: middle;\n",
              "    }\n",
              "\n",
              "    .dataframe tbody tr th {\n",
              "        vertical-align: top;\n",
              "    }\n",
              "\n",
              "    .dataframe thead th {\n",
              "        text-align: right;\n",
              "    }\n",
              "</style>\n",
              "<table border=\"1\" class=\"dataframe\">\n",
              "  <thead>\n",
              "    <tr style=\"text-align: right;\">\n",
              "      <th></th>\n",
              "      <th>RESOURCE</th>\n",
              "      <th>MGR_ID</th>\n",
              "      <th>ROLE_ROLLUP_1</th>\n",
              "      <th>ROLE_ROLLUP_2</th>\n",
              "      <th>ROLE_DEPTNAME</th>\n",
              "      <th>ROLE_TITLE</th>\n",
              "      <th>ROLE_FAMILY_DESC</th>\n",
              "      <th>ROLE_FAMILY</th>\n",
              "    </tr>\n",
              "  </thead>\n",
              "  <tbody>\n",
              "    <tr>\n",
              "      <th>0</th>\n",
              "      <td>39353</td>\n",
              "      <td>85475</td>\n",
              "      <td>117961</td>\n",
              "      <td>118300</td>\n",
              "      <td>123472</td>\n",
              "      <td>117905</td>\n",
              "      <td>117906</td>\n",
              "      <td>290919</td>\n",
              "    </tr>\n",
              "    <tr>\n",
              "      <th>1</th>\n",
              "      <td>17183</td>\n",
              "      <td>1540</td>\n",
              "      <td>117961</td>\n",
              "      <td>118343</td>\n",
              "      <td>123125</td>\n",
              "      <td>118536</td>\n",
              "      <td>118536</td>\n",
              "      <td>308574</td>\n",
              "    </tr>\n",
              "    <tr>\n",
              "      <th>2</th>\n",
              "      <td>36724</td>\n",
              "      <td>14457</td>\n",
              "      <td>118219</td>\n",
              "      <td>118220</td>\n",
              "      <td>117884</td>\n",
              "      <td>117879</td>\n",
              "      <td>267952</td>\n",
              "      <td>19721</td>\n",
              "    </tr>\n",
              "    <tr>\n",
              "      <th>3</th>\n",
              "      <td>36135</td>\n",
              "      <td>5396</td>\n",
              "      <td>117961</td>\n",
              "      <td>118343</td>\n",
              "      <td>119993</td>\n",
              "      <td>118321</td>\n",
              "      <td>240983</td>\n",
              "      <td>290919</td>\n",
              "    </tr>\n",
              "    <tr>\n",
              "      <th>4</th>\n",
              "      <td>42680</td>\n",
              "      <td>5905</td>\n",
              "      <td>117929</td>\n",
              "      <td>117930</td>\n",
              "      <td>119569</td>\n",
              "      <td>119323</td>\n",
              "      <td>123932</td>\n",
              "      <td>19793</td>\n",
              "    </tr>\n",
              "    <tr>\n",
              "      <th>5</th>\n",
              "      <td>45333</td>\n",
              "      <td>14561</td>\n",
              "      <td>117951</td>\n",
              "      <td>117952</td>\n",
              "      <td>118008</td>\n",
              "      <td>118568</td>\n",
              "      <td>118568</td>\n",
              "      <td>19721</td>\n",
              "    </tr>\n",
              "  </tbody>\n",
              "</table>\n",
              "</div>"
            ],
            "text/plain": [
              "   RESOURCE  MGR_ID  ROLE_ROLLUP_1  ROLE_ROLLUP_2  ROLE_DEPTNAME  ROLE_TITLE  \\\n",
              "0     39353   85475         117961         118300         123472      117905   \n",
              "1     17183    1540         117961         118343         123125      118536   \n",
              "2     36724   14457         118219         118220         117884      117879   \n",
              "3     36135    5396         117961         118343         119993      118321   \n",
              "4     42680    5905         117929         117930         119569      119323   \n",
              "5     45333   14561         117951         117952         118008      118568   \n",
              "\n",
              "   ROLE_FAMILY_DESC  ROLE_FAMILY  \n",
              "0            117906       290919  \n",
              "1            118536       308574  \n",
              "2            267952        19721  \n",
              "3            240983       290919  \n",
              "4            123932        19793  \n",
              "5            118568        19721  "
            ]
          },
          "metadata": {
            "tags": []
          },
          "execution_count": 7
        }
      ]
    },
    {
      "cell_type": "code",
      "metadata": {
        "id": "pTCWJU85sC0k",
        "colab_type": "code",
        "colab": {}
      },
      "source": [
        "X = np.array(df)"
      ],
      "execution_count": 0,
      "outputs": []
    },
    {
      "cell_type": "code",
      "metadata": {
        "id": "2raIFRjfc6ig",
        "colab_type": "code",
        "outputId": "2b2dca91-bedd-418d-9820-584d35145488",
        "colab": {
          "base_uri": "https://localhost:8080/",
          "height": 50
        }
      },
      "source": [
        "nr = X.shape[0]\n",
        "nc = X.shape[1]\n",
        "\n",
        "\n",
        "print(\"Number of samples before one hot encoding: {}\".format(nr))\n",
        "print(\"Number of features before one hot encoding: {}\".format(nc))"
      ],
      "execution_count": 0,
      "outputs": [
        {
          "output_type": "stream",
          "text": [
            "Number of samples before one hot encoding: 32769\n",
            "Number of features before one hot encoding: 8\n"
          ],
          "name": "stdout"
        }
      ]
    },
    {
      "cell_type": "code",
      "metadata": {
        "id": "IrMpxO2drgIo",
        "colab_type": "code",
        "outputId": "ce9ea5d4-4d24-4671-95bd-ec31eb0eb63c",
        "colab": {
          "base_uri": "https://localhost:8080/",
          "height": 87
        }
      },
      "source": [
        "# Doing simple Cross validation\n",
        "Xtr,Xts,ytr,yts = train_test_split(X,y,test_size= 0.20, shuffle = True, random_state = 42)\n",
        "#Building model using logistic regression linear classifier\n",
        "model = LogisticRegression(C = 3)\n",
        "\n",
        "# fitting model on the training samples of one hot encoded data.\n",
        "model.fit(Xtr,ytr)\n",
        "\n",
        "#predicting probability of the output, so that we can measure auc.\n",
        "yhatprob = model.predict_proba(Xts)[:, 1]\n",
        "\n",
        "fpr, tpr, thresholds = roc_curve(yts, yhatprob)\n",
        "roc_auc = auc(fpr, tpr)\n",
        "\n",
        "print(\"AUC value using cross validation is : {}\".format(roc_auc))\n",
        "\n"
      ],
      "execution_count": 0,
      "outputs": [
        {
          "output_type": "stream",
          "text": [
            "AUC value using cross validation is : 0.4807719524244556\n"
          ],
          "name": "stdout"
        },
        {
          "output_type": "stream",
          "text": [
            "/usr/local/lib/python3.6/dist-packages/sklearn/linear_model/logistic.py:433: FutureWarning: Default solver will be changed to 'lbfgs' in 0.22. Specify a solver to silence this warning.\n",
            "  FutureWarning)\n"
          ],
          "name": "stderr"
        }
      ]
    },
    {
      "cell_type": "markdown",
      "metadata": {
        "id": "2aCkYrETr2bh",
        "colab_type": "text"
      },
      "source": [
        "From above code snippet we see that the AUC of the model is just 0.48 which is really bad. This is because of the skewed nature of input data. Hence, we will do One Hot encoding on the data because we saw some pattern in the data. This will increase the data size. And then train the models on this encoded data."
      ]
    },
    {
      "cell_type": "code",
      "metadata": {
        "id": "AAJGRlNyO_I8",
        "colab_type": "code",
        "outputId": "22cd9187-30f5-4883-967e-f7ac96b45134",
        "colab": {
          "base_uri": "https://localhost:8080/",
          "height": 104
        }
      },
      "source": [
        "#Initially we predicted the model without one hot encoding but found poor results.\n",
        "#then did one hot encoding after seeing some pattern in the data which gave us good results.\n",
        "encoder = preprocessing.OneHotEncoder()\n",
        "encoder.fit(X)\n",
        "X = encoder.transform(X)"
      ],
      "execution_count": 0,
      "outputs": [
        {
          "output_type": "stream",
          "text": [
            "/usr/local/lib/python3.6/dist-packages/sklearn/preprocessing/_encoders.py:371: FutureWarning: The handling of integer data will change in version 0.22. Currently, the categories are determined based on the range [0, max(values)], while in the future they will be determined based on the unique values.\n",
            "If you want the future behaviour and silence this warning, you can specify \"categories='auto'\".\n",
            "In case you used a LabelEncoder before this OneHotEncoder to convert the categories to integers, then you can now use the OneHotEncoder directly.\n",
            "  warnings.warn(msg, FutureWarning)\n"
          ],
          "name": "stderr"
        }
      ]
    },
    {
      "cell_type": "code",
      "metadata": {
        "id": "In0xBoJOPh3y",
        "colab_type": "code",
        "outputId": "a16bfdb1-c60d-4d38-9a3a-36f453f44b85",
        "colab": {
          "base_uri": "https://localhost:8080/",
          "height": 50
        }
      },
      "source": [
        "ns = X.shape[0]\n",
        "nf = X.shape[1]\n",
        "\n",
        "print(\"Number of samples after one hot encoding: {}\".format(ns))\n",
        "print(\"Number of features after one hot encoding: {}\".format(nf))"
      ],
      "execution_count": 0,
      "outputs": [
        {
          "output_type": "stream",
          "text": [
            "Number of samples after one hot encoding: 32769\n",
            "Number of features after one hot encoding: 15283\n"
          ],
          "name": "stdout"
        }
      ]
    },
    {
      "cell_type": "code",
      "metadata": {
        "id": "FBqE0mzUOksL",
        "colab_type": "code",
        "colab": {}
      },
      "source": [
        "# Doing simple Cross validation\n",
        "Xtr,Xts,ytr,yts = train_test_split(X,y,test_size= 0.20, shuffle = True, random_state = 42)"
      ],
      "execution_count": 0,
      "outputs": []
    },
    {
      "cell_type": "code",
      "metadata": {
        "id": "OoI3d_cuOk1S",
        "colab_type": "code",
        "outputId": "b31ca243-8a31-486a-9833-d1efe5171d12",
        "colab": {
          "base_uri": "https://localhost:8080/",
          "height": 87
        }
      },
      "source": [
        "#Building model using logistic regression linear classifier\n",
        "model = LogisticRegression(C = 3)\n",
        "\n",
        "# fitting model on the training samples of one hot encoded data.\n",
        "model.fit(Xtr,ytr)\n",
        "\n",
        "#predicting probability of the output, so that we can measure auc.\n",
        "yhatprob = model.predict_proba(Xts)[:, 1]\n",
        "\n",
        "fpr, tpr, thresholds = roc_curve(yts, yhatprob)\n",
        "roc_auc = auc(fpr, tpr)\n",
        "\n",
        "print(\"AUC value using cross validation is : {}\".format(roc_auc))\n",
        "\n"
      ],
      "execution_count": 0,
      "outputs": [
        {
          "output_type": "stream",
          "text": [
            "/usr/local/lib/python3.6/dist-packages/sklearn/linear_model/logistic.py:433: FutureWarning: Default solver will be changed to 'lbfgs' in 0.22. Specify a solver to silence this warning.\n",
            "  FutureWarning)\n"
          ],
          "name": "stderr"
        },
        {
          "output_type": "stream",
          "text": [
            "AUC value using cross validation is : 0.8726339842218147\n"
          ],
          "name": "stdout"
        }
      ]
    },
    {
      "cell_type": "code",
      "metadata": {
        "id": "2iozgHTfOk_9",
        "colab_type": "code",
        "outputId": "31270ace-17ad-4b42-a557-cd10641bcf64",
        "colab": {
          "base_uri": "https://localhost:8080/",
          "height": 70
        }
      },
      "source": [
        "# Doing K-fold cross validation\n",
        "\n",
        "C_test = [0.25,0.5,0.75,1.0,1.25,1.5,1.75,2.0,2.25,2.5,2.75,3.0,3.25,3.5,3.75,4.0]\n",
        "nt = len(C_test)\n",
        "\n",
        "nfold = 10\n",
        "kf = KFold(n_splits=nfold,shuffle=True)\n",
        "\n",
        "roc_auc = np.zeros((nt,nfold))\n",
        "# Creating the logistic regression object\n",
        "logreg = LogisticRegression()\n",
        "\n",
        "# Looping over the folds in the cross-validation\n",
        "for ifold, Ind in enumerate(kf.split(X)):        \n",
        "            \n",
        "    # Getting training and test data\n",
        "    Itr, Its = Ind\n",
        "    Xtr = X[Itr,:]\n",
        "    ytr = y[Itr]\n",
        "    Xts = X[Its,:]\n",
        "    yts = y[Its]\n",
        "    \n",
        "    # Looping over penalty levels\n",
        "    for i, c in enumerate(C_test):\n",
        "        \n",
        "        # Setting the penalty level        \n",
        "        logreg.C= c\n",
        "    \n",
        "        # Fit a model on the training data\n",
        "        logreg.fit(Xtr, ytr)\n",
        "    \n",
        "        \n",
        "        #predicting label probability on test data\n",
        "        yhatprob = logreg.predict_proba(Xts)[:, 1]\n",
        "        \n",
        "\n",
        "        # Measuring and storing AUC for all the folds and all values of C\n",
        "        fpr, tpr, thresholds = roc_curve(yts, yhatprob)\n",
        "        roc_auc[i,ifold] = auc(fpr, tpr)\n",
        "\n",
        "        \n",
        "    \n"
      ],
      "execution_count": 0,
      "outputs": [
        {
          "output_type": "stream",
          "text": [
            "/usr/local/lib/python3.6/dist-packages/sklearn/linear_model/logistic.py:433: FutureWarning: Default solver will be changed to 'lbfgs' in 0.22. Specify a solver to silence this warning.\n",
            "  FutureWarning)\n"
          ],
          "name": "stderr"
        }
      ]
    },
    {
      "cell_type": "code",
      "metadata": {
        "id": "GxmAY140OlLQ",
        "colab_type": "code",
        "outputId": "f819a312-0b5c-4be2-c50e-6f6142c37f3c",
        "colab": {
          "base_uri": "https://localhost:8080/",
          "height": 317
        }
      },
      "source": [
        "#finding mean value of auc across all the folds for all values of C \n",
        "auc_mean = np.mean(roc_auc, axis = 1)\n",
        "\n",
        "\n",
        "#finding mean value of auc across all the folds for all values of C \n",
        "auc_se = np.std(roc_auc,axis=1)/np.sqrt(nfold-1)\n",
        "\n",
        "\n",
        "plt.errorbar(C_test, auc_mean, marker='o',yerr=auc_se)\n",
        "\n",
        "plt.grid()\n",
        "plt.xlabel('C')\n",
        "plt.ylabel('auc')\n",
        "\n",
        "imax = np.argmax(auc_mean)\n",
        "\n",
        "print(\"The maximum auc is: {}\".format(auc_mean[imax]))\n",
        "print(\"The C value corresponding to maximum auc = {}\".format(C_test[imax]))\n",
        "\n"
      ],
      "execution_count": 0,
      "outputs": [
        {
          "output_type": "stream",
          "text": [
            "The maximum auc is: 0.8659855560736937\n",
            "The C value corresponding to maximum auc = 2.0\n"
          ],
          "name": "stdout"
        },
        {
          "output_type": "display_data",
          "data": {
            "image/png": "[encoded data removed]",
            "text/plain": [
              "<Figure size 432x288 with 1 Axes>"
            ]
          },
          "metadata": {
            "tags": []
          }
        }
      ]
    },
    {
      "cell_type": "code",
      "metadata": {
        "id": "izNac9aNOlc9",
        "colab_type": "code",
        "outputId": "515789c8-e028-41a3-ad45-de827e0a86b3",
        "colab": {
          "base_uri": "https://localhost:8080/",
          "height": 50
        }
      },
      "source": [
        "auc_opt = auc_mean[imax] - auc_se[imax]\n",
        "\n",
        "I = np.where(auc_mean >= auc_opt)[0]\n",
        "iopt = I[0]\n",
        "Copt = C_test[iopt]\n",
        "print(\"The optimal value of C using One SE rule is: {}\".format(Copt))\n",
        "print(\"Optimal AUC using One SE rule is: {}\".format(auc_mean[iopt]))"
      ],
      "execution_count": 0,
      "outputs": [
        {
          "output_type": "stream",
          "text": [
            "The optimal value of C using One SE rule is: 0.75\n",
            "Optimal AUC using One SE rule is: 0.8625716432684779\n"
          ],
          "name": "stdout"
        }
      ]
    },
    {
      "cell_type": "markdown",
      "metadata": {
        "id": "od4X595K3sXD",
        "colab_type": "text"
      },
      "source": [
        "Now trying to perform TruncatedSVD on the data and then apply logistic regression. Since we have done One hot encoding, the data matrix is sparse and we cannot perform PCA on sparse matrix, hence using TruncatedSVD."
      ]
    },
    {
      "cell_type": "code",
      "metadata": {
        "id": "w3nCNNyVOlpR",
        "colab_type": "code",
        "colab": {}
      },
      "source": [
        "# scaling\n",
        "scaling = StandardScaler(with_mean= False)\n",
        "scaling.fit(X)\n",
        "Xs = scaling.transform(X)"
      ],
      "execution_count": 0,
      "outputs": []
    },
    {
      "cell_type": "code",
      "metadata": {
        "id": "KIrEy3okOl-X",
        "colab_type": "code",
        "colab": {}
      },
      "source": [
        "# performing TruncatedSVD on One hot encoded data.\n",
        "ncomp = 2\n",
        "trunk = TruncatedSVD(n_components= ncomp)\n",
        "trunk.fit(Xs)\n",
        "Z = trunk.transform(Xs)\n",
        "\n"
      ],
      "execution_count": 0,
      "outputs": []
    },
    {
      "cell_type": "markdown",
      "metadata": {
        "id": "d5aKVPy-7B40",
        "colab_type": "text"
      },
      "source": [
        "Now trying to scatter plot the different classes of the transformed data. Once scattered we can see that the input data is really skewed i.e; the data examples of class 1 are way more than the data examples of class 0. Since data is skewed the metric accuracy will mislead us, Hence we used AUC to measure the performance."
      ]
    },
    {
      "cell_type": "code",
      "metadata": {
        "id": "iBBaumjuOmph",
        "colab_type": "code",
        "outputId": "961a40b9-6e7d-41e4-8461-707ef79a73d2",
        "colab": {
          "base_uri": "https://localhost:8080/",
          "height": 286
        }
      },
      "source": [
        "nc = 2\n",
        "color = ['m', 'c']\n",
        "classn = ['class 0','class 1']\n",
        "for i in range(nc):\n",
        "    I = np.where(y == i)\n",
        "    plt.scatter(Z[I,0],Z[I,1],c =color[i])\n",
        "plt.legend(classn)"
      ],
      "execution_count": 0,
      "outputs": [
        {
          "output_type": "execute_result",
          "data": {
            "text/plain": [
              "<matplotlib.legend.Legend at 0x7f9daa9c7cc0>"
            ]
          },
          "metadata": {
            "tags": []
          },
          "execution_count": 20
        },
        {
          "output_type": "display_data",
          "data": {
            "image/png": "[encoded data removed]",
            "text/plain": [
              "<Figure size 432x288 with 1 Axes>"
            ]
          },
          "metadata": {
            "tags": []
          }
        }
      ]
    },
    {
      "cell_type": "markdown",
      "metadata": {
        "id": "LPj7oB4t-T4c",
        "colab_type": "text"
      },
      "source": [
        "Performing Scaling and TruncatedSVD on  cross validation data Xtr and Xts otained using train_test_split above. "
      ]
    },
    {
      "cell_type": "code",
      "metadata": {
        "id": "DESMo18VZOD0",
        "colab_type": "code",
        "colab": {}
      },
      "source": [
        "\n",
        "#Scaling\n",
        "scaling = StandardScaler(with_mean= False)\n",
        "scaling.fit(Xtr)\n",
        "Xtr1 = scaling.transform(Xtr)\n",
        "\n",
        "# applying TruncatedSVD\n",
        "ncomp = 2\n",
        "trunk = TruncatedSVD(n_components= ncomp)\n",
        "trunk.fit(Xtr1)\n",
        "Ztr = trunk.transform(Xtr1)\n",
        "\n",
        "Xts1 = scaling.transform(Xts)\n",
        "Zts = trunk.transform(Xts1)\n"
      ],
      "execution_count": 0,
      "outputs": []
    },
    {
      "cell_type": "markdown",
      "metadata": {
        "id": "9JMDktdA-6Vg",
        "colab_type": "text"
      },
      "source": [
        "Now using the above Transformed data and the best value of C we received from above Kfold validation we are building the model and then predicting the output labels."
      ]
    },
    {
      "cell_type": "code",
      "metadata": {
        "id": "YnfQHHyeZRs1",
        "colab_type": "code",
        "outputId": "39697851-0c49-4c81-f8ed-896a2ab029b9",
        "colab": {
          "base_uri": "https://localhost:8080/",
          "height": 87
        }
      },
      "source": [
        "#Building model using logistic regression linear classifier\n",
        "model1 = LogisticRegression(C = 0.75)\n",
        "\n",
        "# fitting model on the training samples of one hot encoded data.\n",
        "model1.fit(Ztr,ytr)\n",
        "\n",
        "#predicting probability of the output, so that we can measure auc.\n",
        "ypred = model1.predict_proba(Zts)[:, 1]\n",
        "\n",
        "fpr, tpr, thresholds = roc_curve(yts, ypred)\n",
        "roc_auc1 = auc(fpr, tpr)\n",
        "\n",
        "print(\"AUC value after tranformation using cross validation is : {}\".format(roc_auc1))"
      ],
      "execution_count": 0,
      "outputs": [
        {
          "output_type": "stream",
          "text": [
            "AUC value after tranformation using cross validation is : 0.5194549228502726\n"
          ],
          "name": "stdout"
        },
        {
          "output_type": "stream",
          "text": [
            "/usr/local/lib/python3.6/dist-packages/sklearn/linear_model/logistic.py:433: FutureWarning: Default solver will be changed to 'lbfgs' in 0.22. Specify a solver to silence this warning.\n",
            "  FutureWarning)\n"
          ],
          "name": "stderr"
        }
      ]
    },
    {
      "cell_type": "markdown",
      "metadata": {
        "id": "mJtcFuVVFCZb",
        "colab_type": "text"
      },
      "source": [
        "**we can see above that the auc has dropped to 0.52 from 0.87. We think that this is because of skewed data. Since the data is skewed we think that reducing the number of features and then predicting the labels is not a good option because it is giving us bad result. This is the reason why we chose to do One Hot Encoding, because we were getting some what similar auc of 0.48 without One Hot encoding as well. Therefore, we are not going to use PCA or TruncatedSVD for further models. **"
      ]
    },
    {
      "cell_type": "markdown",
      "metadata": {
        "id": "G3MamcVQG0Si",
        "colab_type": "text"
      },
      "source": [
        "Now using SVM on non-transformed data for prediction."
      ]
    },
    {
      "cell_type": "code",
      "metadata": {
        "id": "47j9QXvPHNlZ",
        "colab_type": "code",
        "outputId": "c82d34ed-75ca-4883-dfd7-d976dc9488f7",
        "colab": {
          "base_uri": "https://localhost:8080/",
          "height": 34
        }
      },
      "source": [
        "#Building model using svm.SVC linear classifier with some random parameters.\n",
        "svm = SVC(probability= True,kernel=\"linear\", C=3.0, gamma=0.01,verbose=10)\n",
        "\n",
        "# fitting model on the training samples of one hot encoded data.\n",
        "svm.fit(Xtr,ytr)\n",
        "\n",
        "#predicting probability of the output on the test samples of one hot encoded data, so that we can measure auc.\n",
        "yhatpr = svm.predict_proba(Xts)[:, 1]\n",
        "\n",
        "fpr, tpr, thresholds = roc_curve(yts, yhatpr)\n",
        "roc_auc2 = auc(fpr, tpr)\n",
        "\n",
        "print(\"AUC value using svm.SVC model is : {}\".format(roc_auc2))\n",
        "\n"
      ],
      "execution_count": 0,
      "outputs": [
        {
          "output_type": "stream",
          "text": [
            "[LibSVM]AUC value using svm.SVC model is : 0.8515017060710508\n"
          ],
          "name": "stdout"
        }
      ]
    },
    {
      "cell_type": "markdown",
      "metadata": {
        "id": "O2dRcnXuM2TJ",
        "colab_type": "text"
      },
      "source": [
        "Since the dataset after One Hot Encoding is large, it is taking a lot of time for svm.SVC classifier to predict the labels. Therefore we decided to use GridSearchCV for cross validation as we have done in lab 11. Please do not run the below 3 code cells belonging to GridSearchCv because it is taking approximately 90 minutes to run the GridSearchCV.fit method by using GPU provided by google colab. Instead, We have run them and  we will update the performance value and best parameters we got in the text cell below the .fit method code cell. We have also taken the screen shot of the outputs of the GridSearchCV  estimator which we will post in github."
      ]
    },
    {
      "cell_type": "code",
      "metadata": {
        "id": "5r_15ObfHOUi",
        "colab_type": "code",
        "colab": {}
      },
      "source": [
        "k=['linear']\n",
        "c = [1e-2,1e-1,1e-0,1e1,2]\n",
        "g = [1e-3,1e-2,1e-1,1e-0]\n",
        "param_grid=dict(kernel=k, C=c, gamma=g)"
      ],
      "execution_count": 0,
      "outputs": []
    },
    {
      "cell_type": "code",
      "metadata": {
        "id": "2tVIDnvxHOqU",
        "colab_type": "code",
        "outputId": "7327d7cf-16c6-45c3-80ad-05098fc32516",
        "colab": {
          "base_uri": "https://localhost:8080/",
          "height": 168
        }
      },
      "source": [
        "estimator = GridSearchCV(SVC(),param_grid, cv= 5,scoring='roc_auc')#,return_train_score= True, iid= False)\n",
        "estimator.fit(X,y)"
      ],
      "execution_count": 0,
      "outputs": [
        {
          "output_type": "execute_result",
          "data": {
            "text/plain": [
              "GridSearchCV(cv=5, error_score='raise-deprecating',\n",
              "       estimator=SVC(C=1.0, cache_size=200, class_weight=None, coef0=0.0,\n",
              "  decision_function_shape='ovr', degree=3, gamma='auto_deprecated',\n",
              "  kernel='rbf', max_iter=-1, probability=False, random_state=None,\n",
              "  shrinking=True, tol=0.001, verbose=False),\n",
              "       fit_params=None, iid='warn', n_jobs=None,\n",
              "       param_grid={'kernel': ['linear'], 'C': [0.01, 0.1, 1.0, 10.0, 2], 'gamma': [0.001, 0.01, 0.1, 1.0]},\n",
              "       pre_dispatch='2*n_jobs', refit=True, return_train_score='warn',\n",
              "       scoring='roc_auc', verbose=0)"
            ]
          },
          "metadata": {
            "tags": []
          },
          "execution_count": 25
        }
      ]
    },
    {
      "cell_type": "markdown",
      "metadata": {
        "id": "ezX2ilJSSPjj",
        "colab_type": "text"
      },
      "source": [
        "The above GridSearchCV.fit is taking approximately 90 minutes to run, so instead of you running this part of the code, we have run it and recorded below the best score and best_parameters we received, they are:\n",
        "\n",
        "best score(auc): 0.835598640\n",
        "best parameters: C=2 , gamma=0.001."
      ]
    },
    {
      "cell_type": "code",
      "metadata": {
        "id": "UQSRJavPTlxM",
        "colab_type": "code",
        "outputId": "b2e04c97-aa93-43a0-c311-4a8584a5d857",
        "colab": {
          "base_uri": "https://localhost:8080/",
          "height": 50
        }
      },
      "source": [
        "print(estimator.best_score_)\n",
        "print(estimator.best_params_)"
      ],
      "execution_count": 0,
      "outputs": [
        {
          "output_type": "stream",
          "text": [
            "0.8355986402665114\n",
            "{'C': 2, 'gamma': 0.001, 'kernel': 'linear'}\n"
          ],
          "name": "stdout"
        }
      ]
    },
    {
      "cell_type": "markdown",
      "metadata": {
        "id": "542-YbW8VfS-",
        "colab_type": "text"
      },
      "source": [
        "So, using GridSearchCV with estimator: svm.SVC() and the list of parameters stated above, we found that the best auc was 0.835598640 for parameters C=2 and Gamma = 0.001. But we even received an auc= 0.8515 for C= 3 and gamma= 0.01 present in code cell above GridSearchCV estimation. In any case the AUC we got using SVM on all the possible combinations of parameters we have used is less than what we got using Logistic regression. Hence, we believe Logistic regression is a better linear classifier than svm.SVC for this dataset."
      ]
    },
    {
      "cell_type": "markdown",
      "metadata": {
        "id": "GJSnHGFGapqA",
        "colab_type": "text"
      },
      "source": [
        "**Now we will use Random Forest classifier for classification and see the performance. Since we found Logistic regression is better than svm.SVC, we will only compare the performance of Random Forest classifier with Logistic regression and then finalize the final classifier which we think is better. **"
      ]
    },
    {
      "cell_type": "code",
      "metadata": {
        "id": "IGcRHd0jfVdi",
        "colab_type": "code",
        "outputId": "96113e24-de1a-439e-addd-ad2b01353d3e",
        "colab": {
          "base_uri": "https://localhost:8080/",
          "height": 34
        }
      },
      "source": [
        "#Building model using RandomForest classifier:\n",
        "\n",
        "rfc = RandomForestClassifier(n_estimators= 1000, max_depth= 10)\n",
        "\n",
        "# fitting model on the training samples of one hot encoded data.\n",
        "rfc.fit(Xtr,ytr)\n",
        "\n",
        "#predicting probability of the output, so that we can measure auc.\n",
        "yhatprob1 = rfc.predict_proba(Xts)[:, 1]\n",
        "\n",
        "fpr, tpr, thresholds = roc_curve(yts, yhatprob1)\n",
        "roc_auc3 = auc(fpr, tpr)\n",
        "\n",
        "print(\"AUC value using Random Forest classifier is : {}\".format(roc_auc3))\n",
        "\n"
      ],
      "execution_count": 0,
      "outputs": [
        {
          "output_type": "stream",
          "text": [
            "AUC value using Random Forest classifier is : 0.8038823287047536\n"
          ],
          "name": "stdout"
        }
      ]
    },
    {
      "cell_type": "markdown",
      "metadata": {
        "id": "M85YnvPj2zbW",
        "colab_type": "text"
      },
      "source": [
        "Now we will use GridSearchCV for doing cross validation on the below list of parameters using RandomForest, find the best auc and its respective parameters."
      ]
    },
    {
      "cell_type": "code",
      "metadata": {
        "id": "-DU05Y3Ff7H-",
        "colab_type": "code",
        "colab": {}
      },
      "source": [
        "#creating the list of parameters we would like to use.\n",
        "n_est = [100,200,300,500,750,1000,2000,3000]\n",
        "max_dep = [3,4,5,8,10,15]\n",
        "param_grid1=dict(n_estimators=n_est, max_depth=max_dep)"
      ],
      "execution_count": 0,
      "outputs": []
    },
    {
      "cell_type": "code",
      "metadata": {
        "id": "8tOBiNkZkwtu",
        "colab_type": "code",
        "outputId": "7d51d86c-afc8-419b-b9fe-0a6c24b296d2",
        "colab": {
          "base_uri": "https://localhost:8080/",
          "height": 218
        }
      },
      "source": [
        "estimator1 = GridSearchCV(RandomForestClassifier(),param_grid1, cv= 5,scoring='roc_auc')\n",
        "estimator1.fit(X,y)"
      ],
      "execution_count": 0,
      "outputs": [
        {
          "output_type": "execute_result",
          "data": {
            "text/plain": [
              "GridSearchCV(cv=5, error_score='raise-deprecating',\n",
              "       estimator=RandomForestClassifier(bootstrap=True, class_weight=None, criterion='gini',\n",
              "            max_depth=None, max_features='auto', max_leaf_nodes=None,\n",
              "            min_impurity_decrease=0.0, min_impurity_split=None,\n",
              "            min_samples_leaf=1, min_samples_split=2,\n",
              "            min_weight_fraction_leaf=0.0, n_estimators='warn', n_jobs=None,\n",
              "            oob_score=False, random_state=None, verbose=0,\n",
              "            warm_start=False),\n",
              "       fit_params=None, iid='warn', n_jobs=None,\n",
              "       param_grid={'n_estimators': [100, 200, 300, 500, 750, 1000, 2000, 3000], 'max_depth': [3, 4, 5, 8, 10, 15]},\n",
              "       pre_dispatch='2*n_jobs', refit=True, return_train_score='warn',\n",
              "       scoring='roc_auc', verbose=0)"
            ]
          },
          "metadata": {
            "tags": []
          },
          "execution_count": 34
        }
      ]
    },
    {
      "cell_type": "markdown",
      "metadata": {
        "id": "1QdmiA9LKkZb",
        "colab_type": "text"
      },
      "source": [
        "The above GridSearchCV.fit  using RandomForest classifier is also taking approximately 90 minutes to run, so instead of you running this part of the code, we have run it and recorded below the best score and best_parameters we got, they are:\n",
        "\n",
        "best score (auc): 0.8226450\n",
        "best parameters: max_depth= 15, n_estimators=1000\n"
      ]
    },
    {
      "cell_type": "code",
      "metadata": {
        "id": "Rd5FtEFN4KkL",
        "colab_type": "code",
        "outputId": "d41e5269-7edf-4500-a7e4-1c5cbb97b100",
        "colab": {
          "base_uri": "https://localhost:8080/",
          "height": 50
        }
      },
      "source": [
        "print(estimator1.best_score_)\n",
        "print(estimator1.best_params_)"
      ],
      "execution_count": 0,
      "outputs": [
        {
          "output_type": "stream",
          "text": [
            "0.8226450415779546\n",
            "{'max_depth': 15, 'n_estimators': 1000}\n"
          ],
          "name": "stdout"
        }
      ]
    },
    {
      "cell_type": "markdown",
      "metadata": {
        "id": "mv1OE4us4UX2",
        "colab_type": "text"
      },
      "source": [
        "So, using GridSearchCV with estimator: RandomForestClassifier() and the list of parameters stated above, we found that the best auc was 0.8226450 for parameters max_depth= 15, n_estimators=1000. Even using RandomForestClassifier(), the AUC we got on all the possible combinations of parameters we have used is less than what we got using Logistic regression. Hence, we believe Logistic regression is a better classifier than svm.SVC and RandomForest for this dataset. "
      ]
    },
    {
      "cell_type": "markdown",
      "metadata": {
        "id": "gyKw3havOcbh",
        "colab_type": "text"
      },
      "source": [
        "**Now finally we select logistic regression as classifier as it performed the best among all the classifiers we have used. Using Logistic regression classifier we predict the model one last time using best parameter C = 0.75 we got using k-fold validation for Logistic regression.**"
      ]
    },
    {
      "cell_type": "code",
      "metadata": {
        "id": "I-kEgPxk4SOb",
        "colab_type": "code",
        "outputId": "f6a53714-070b-485e-ba2d-29abdc6ff836",
        "colab": {
          "base_uri": "https://localhost:8080/",
          "height": 87
        }
      },
      "source": [
        "#Building model using logistic regression linear classifier\n",
        "model_final = LogisticRegression(C = 0.75)\n",
        "\n",
        "# fitting model on the training samples of one hot encoded data.\n",
        "model_final.fit(Xtr,ytr)\n",
        "\n",
        "#predicting target labels\n",
        "yhat = model_final.predict(Xts)\n",
        "\n",
        "#predicting probability of the output, so that we can measure auc.\n",
        "yhatpro = model_final.predict_proba(Xts)[:, 1]\n",
        "\n",
        "fpr, tpr, thresholds = roc_curve(yts, yhatpro)\n",
        "roc_auc_final = auc(fpr, tpr)\n",
        "\n",
        "print(\"Final selected model AUC value using cross validation is : {}\".format(roc_auc_final))\n",
        "\n"
      ],
      "execution_count": 0,
      "outputs": [
        {
          "output_type": "stream",
          "text": [
            "/usr/local/lib/python3.6/dist-packages/sklearn/linear_model/logistic.py:433: FutureWarning: Default solver will be changed to 'lbfgs' in 0.22. Specify a solver to silence this warning.\n",
            "  FutureWarning)\n"
          ],
          "name": "stderr"
        },
        {
          "output_type": "stream",
          "text": [
            "AUC value using cross validation is : 0.8814830267137315\n"
          ],
          "name": "stdout"
        }
      ]
    },
    {
      "cell_type": "markdown",
      "metadata": {
        "id": "tzz7YNS_QRTb",
        "colab_type": "text"
      },
      "source": [
        "Finally, the best AUC value we received for the One Hot encoded input data is 0.8814830 using LogisticRegression( ) classifier with the value of C = 0.75."
      ]
    },
    {
      "cell_type": "markdown",
      "metadata": {
        "id": "aI9xZMfWQ1CB",
        "colab_type": "text"
      },
      "source": [
        "\n",
        "\n",
        "Below we will display the ROC curve of the data which we get using fpr and tpr."
      ]
    },
    {
      "cell_type": "code",
      "metadata": {
        "id": "i39YJkmQPyPB",
        "colab_type": "code",
        "outputId": "7bde503b-03f7-4bc0-ef2d-a08ed973a6b3",
        "colab": {
          "base_uri": "https://localhost:8080/",
          "height": 295
        }
      },
      "source": [
        "# Plotting ROC curve\n",
        "plt.plot([0, 1], [0, 1], 'k--')\n",
        "plt.plot(fpr, tpr)\n",
        "plt.xlabel('False Positive Rate')\n",
        "plt.ylabel('True Positive Rate')\n",
        "plt.title('ROC')\n",
        "plt.show()\n"
      ],
      "execution_count": 0,
      "outputs": [
        {
          "output_type": "display_data",
          "data": {
            "image/png": "[encoded data removed]",
            "text/plain": [
              "<Figure size 432x288 with 1 Axes>"
            ]
          },
          "metadata": {
            "tags": []
          }
        }
      ]
    },
    {
      "cell_type": "markdown",
      "metadata": {
        "id": "vqNf7_zbSYmX",
        "colab_type": "text"
      },
      "source": [
        "\n",
        "\n",
        "Now we will display the confusion_matrix of our finally used prediction as well display the classification report."
      ]
    },
    {
      "cell_type": "code",
      "metadata": {
        "id": "jp4Zwj04RntG",
        "colab_type": "code",
        "outputId": "9ab6ce33-8907-4891-ad1e-b8f48b04050f",
        "colab": {
          "base_uri": "https://localhost:8080/",
          "height": 235
        }
      },
      "source": [
        "cm = confusion_matrix(yts,yhat)\n",
        "print('Confusion matrix: \\n',cm)\n",
        "print('Classification report: \\n',classification_report(yts,yhat))"
      ],
      "execution_count": 0,
      "outputs": [
        {
          "output_type": "stream",
          "text": [
            "Confusion matrix: \n",
            " [[  25  162]\n",
            " [  15 3074]]\n",
            "Classification report: \n",
            "               precision    recall  f1-score   support\n",
            "\n",
            "           0       0.62      0.13      0.22       187\n",
            "           1       0.95      1.00      0.97      3089\n",
            "\n",
            "   micro avg       0.95      0.95      0.95      3276\n",
            "   macro avg       0.79      0.56      0.60      3276\n",
            "weighted avg       0.93      0.95      0.93      3276\n",
            "\n"
          ],
          "name": "stdout"
        }
      ]
    },
    {
      "cell_type": "markdown",
      "metadata": {
        "id": "pUcd_GCtTteO",
        "colab_type": "text"
      },
      "source": [
        "From above report as well we can see how skewed the data is. The test data contains 3089 samples belonging to class 1, but only 187 samples for class 0.\n",
        "\n",
        "\n",
        "Below we plot the heatmap of confusion matrix."
      ]
    },
    {
      "cell_type": "code",
      "metadata": {
        "id": "ocR3Qe3YTN29",
        "colab_type": "code",
        "outputId": "0dfa186b-f6bb-4525-9362-5d2d51813aa3",
        "colab": {
          "base_uri": "https://localhost:8080/",
          "height": 269
        }
      },
      "source": [
        "sns.heatmap(cm,annot=True,fmt=\"d\") \n",
        "plt.show()"
      ],
      "execution_count": 0,
      "outputs": [
        {
          "output_type": "display_data",
          "data": {
            "image/png": "[encoded data removed]",
            "text/plain": [
              "<Figure size 432x288 with 2 Axes>"
            ]
          },
          "metadata": {
            "tags": []
          }
        }
      ]
    },
    {
      "cell_type": "markdown",
      "metadata": {
        "id": "AtMresqKYyjI",
        "colab_type": "text"
      },
      "source": [
        "Therefore, the final model we select is:\n",
        "\n",
        "classifier: LogisticRegression()\n",
        "parameters: C=0.75"
      ]
    },
    {
      "cell_type": "code",
      "metadata": {
        "id": "AhWEO-RZUcD7",
        "colab_type": "code",
        "colab": {}
      },
      "source": [
        ""
      ],
      "execution_count": 0,
      "outputs": []
    }
  ]
}